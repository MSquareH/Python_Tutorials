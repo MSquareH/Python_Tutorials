{
 "cells": [
  {
   "cell_type": "markdown",
   "metadata": {},
   "source": [
    "# Class Method and Static Method:"
   ]
  },
  {
   "cell_type": "markdown",
   "metadata": {},
   "source": [
    "## Class Method:"
   ]
  },
  {
   "cell_type": "code",
   "execution_count": 6,
   "metadata": {},
   "outputs": [
    {
     "data": {
      "text/plain": [
       "7"
      ]
     },
     "execution_count": 6,
     "metadata": {},
     "output_type": "execute_result"
    }
   ],
   "source": [
    "class Test():\n",
    "    num2 = 43\n",
    "    def __init__(self, num1, num2):\n",
    "        self.num1 = num1\n",
    "#         self.num2 = num2\n",
    "    def result(self):\n",
    "        return self.num1 + self.num2\n",
    "    @classmethod\n",
    "    def var_change(class1, value):\n",
    "        class1.num2 = value\n",
    "obj = Test(5, 10)\n",
    "Test.var_change(2)\n",
    "obj.result()"
   ]
  },
  {
   "cell_type": "markdown",
   "metadata": {},
   "source": [
    "## Static Method:"
   ]
  },
  {
   "cell_type": "code",
   "execution_count": 7,
   "metadata": {},
   "outputs": [
    {
     "data": {
      "text/plain": [
       "10"
      ]
     },
     "execution_count": 7,
     "metadata": {},
     "output_type": "execute_result"
    }
   ],
   "source": [
    "class Test():\n",
    "    num2 = 43\n",
    "    def __init__(self, num1, num2):\n",
    "        self.num1 = num1\n",
    "#         self.num2 = num2\n",
    "    def result(self):\n",
    "        return self.num1 + self.num2\n",
    "    @classmethod\n",
    "    def var_change(class1, value):\n",
    "        class1.num2 = value\n",
    "    @staticmethod\n",
    "    def subtraction(num):\n",
    "        return num - 10\n",
    "# obj = Test(5, 10)\n",
    "# Test.var_change(2)\n",
    "# obj.result()\n",
    "Test.subtraction(20)"
   ]
  }
 ],
 "metadata": {
  "kernelspec": {
   "display_name": "Python 3",
   "language": "python",
   "name": "python3"
  },
  "language_info": {
   "codemirror_mode": {
    "name": "ipython",
    "version": 3
   },
   "file_extension": ".py",
   "mimetype": "text/x-python",
   "name": "python",
   "nbconvert_exporter": "python",
   "pygments_lexer": "ipython3",
   "version": "3.6.5"
  }
 },
 "nbformat": 4,
 "nbformat_minor": 2
}
