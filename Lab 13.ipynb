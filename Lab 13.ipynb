{
 "cells": [
  {
   "cell_type": "markdown",
   "metadata": {},
   "source": [
    "# Classes?"
   ]
  },
  {
   "cell_type": "markdown",
   "metadata": {},
   "source": [
    "user-defined blue print"
   ]
  },
  {
   "cell_type": "markdown",
   "metadata": {},
   "source": [
    "# Objects?"
   ]
  },
  {
   "cell_type": "markdown",
   "metadata": {},
   "source": [
    "Instance of a class"
   ]
  },
  {
   "cell_type": "markdown",
   "metadata": {},
   "source": [
    "## Creating our First Class"
   ]
  },
  {
   "cell_type": "code",
   "execution_count": 1,
   "metadata": {},
   "outputs": [
    {
     "name": "stdout",
     "output_type": "stream",
     "text": [
      "MSquareH\n"
     ]
    }
   ],
   "source": [
    "class mychannel:\n",
    "    a='MSquareH'\n",
    "        \n",
    "myCha=mychannel()\n",
    "print(myCha.a)"
   ]
  },
  {
   "cell_type": "markdown",
   "metadata": {},
   "source": [
    "## Self?"
   ]
  },
  {
   "cell_type": "code",
   "execution_count": 4,
   "metadata": {},
   "outputs": [
    {
     "name": "stdout",
     "output_type": "stream",
     "text": [
      "This is a Cat\n",
      "This is a Inncoent Pet\n"
     ]
    }
   ],
   "source": [
    "class Cat:\n",
    "    p1='Cat'\n",
    "    p2='Inncoent Pet'\n",
    "    \n",
    "    def xyz(self):\n",
    "        print('This is a', self.p1)\n",
    "        print('This is a', self.p2)\n",
    "Cat1=Cat()\n",
    "Cat1.xyz()"
   ]
  },
  {
   "cell_type": "markdown",
   "metadata": {},
   "source": [
    "## __init__ method\n",
    "## Class and Instance Variable"
   ]
  },
  {
   "cell_type": "code",
   "execution_count": 10,
   "metadata": {},
   "outputs": [
    {
     "name": "stdout",
     "output_type": "stream",
     "text": [
      "Car1 details: \n",
      "This Car is the company of  Honda\n",
      "This Car model is  2011\n",
      "This Car color is  Red\n",
      "\n",
      "Car2 details: \n",
      "This Car is the company of  Toyota\n",
      "This Car model is  2019\n",
      "This Car color is  Black\n"
     ]
    }
   ],
   "source": [
    "class Car:\n",
    "    def __init__ (self,name,model,color):\n",
    "        #Instance Variable\n",
    "        self.name=name\n",
    "        self.model=model\n",
    "        self.color=color\n",
    "        \n",
    "Car1=Car('Honda',2011,'Red')\n",
    "Car2=Car('Toyota',2019,'Black')\n",
    "\n",
    "print('Car1 details: ')\n",
    "print('This Car is the company of ',Car1.name)\n",
    "print('This Car model is ', Car1.model)\n",
    "print('This Car color is ', Car1.color)\n",
    "\n",
    "print('\\nCar2 details: ')\n",
    "print('This Car is the company of ',Car2.name)\n",
    "print('This Car model is ', Car2.model)\n",
    "print('This Car color is ', Car2.color)\n"
   ]
  },
  {
   "cell_type": "code",
   "execution_count": null,
   "metadata": {},
   "outputs": [],
   "source": []
  }
 ],
 "metadata": {
  "kernelspec": {
   "display_name": "Python 3",
   "language": "python",
   "name": "python3"
  },
  "language_info": {
   "codemirror_mode": {
    "name": "ipython",
    "version": 3
   },
   "file_extension": ".py",
   "mimetype": "text/x-python",
   "name": "python",
   "nbconvert_exporter": "python",
   "pygments_lexer": "ipython3",
   "version": "3.6.5"
  }
 },
 "nbformat": 4,
 "nbformat_minor": 2
}
