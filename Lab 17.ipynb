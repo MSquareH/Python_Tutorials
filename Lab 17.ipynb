{
 "cells": [
  {
   "cell_type": "markdown",
   "metadata": {},
   "source": [
    "# Inheritance:"
   ]
  },
  {
   "cell_type": "code",
   "execution_count": 1,
   "metadata": {},
   "outputs": [
    {
     "name": "stdout",
     "output_type": "stream",
     "text": [
      "3 -4\n"
     ]
    }
   ],
   "source": [
    "class cal1():\n",
    "    def __init__(self, num1, num2):\n",
    "        self.num1 = num1\n",
    "        self.num2 = num2\n",
    "    def add(self):\n",
    "        return self.num1 + self.num2\n",
    "\n",
    "class cal2(cal1):\n",
    "    def __init__(self, num1, num2, num3):\n",
    "        super().__init__(num1, num2)\n",
    "        self.num3 = num3\n",
    "    def sub(self):\n",
    "        return self.num1 - self.num2 - self.num3\n",
    "\n",
    "obj = cal2(1, 2, 3)\n",
    "res1 = obj.add()\n",
    "res2 = obj.sub()\n",
    "print(res1, res2)"
   ]
  },
  {
   "cell_type": "code",
   "execution_count": 4,
   "metadata": {},
   "outputs": [
    {
     "name": "stdout",
     "output_type": "stream",
     "text": [
      "MSQUAREH Subscribe\n"
     ]
    }
   ],
   "source": [
    "class Parent():\n",
    "    def __init__(self, fname, lname):\n",
    "        self.fname = fname\n",
    "        self.lname = lname\n",
    "    def printname(self):\n",
    "        print(self.fname, self.lname)\n",
    "        \n",
    "class Child(Parent):\n",
    "    pass\n",
    "\n",
    "obj = Child('MSQUAREH', 'Subscribe')\n",
    "obj.printname()"
   ]
  }
 ],
 "metadata": {
  "kernelspec": {
   "display_name": "Python 3",
   "language": "python",
   "name": "python3"
  },
  "language_info": {
   "codemirror_mode": {
    "name": "ipython",
    "version": 3
   },
   "file_extension": ".py",
   "mimetype": "text/x-python",
   "name": "python",
   "nbconvert_exporter": "python",
   "pygments_lexer": "ipython3",
   "version": "3.6.5"
  }
 },
 "nbformat": 4,
 "nbformat_minor": 2
}
